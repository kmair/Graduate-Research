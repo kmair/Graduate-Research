{
 "cells": [
  {
   "cell_type": "markdown",
   "metadata": {},
   "source": [
    "# ALAMOPY Test-a-thon Worksheet\n",
    "\n",
    "First make sure you have alamo on your computer with a valid license. \n",
    "\n",
    "## Installing alamopy \n",
    "\n",
    "The first step of running **alamopy** is to import the python module that we will be using the methods from. Please download ddm_learning from github and from the alamopython folder, install the alamopy module using:\n",
    "\n",
    "**pip install .**\n",
    "\n",
    "If this is successful, please import the alamopy module in the line below. If not successful, please check the requirements.txt file for necessary python modules that you might need to install.\n",
    "\n",
    "The default call for alamo is **alamo**, if you call alamo with a different command or location, please change that in the shared.py file before installing. "
   ]
  },
  {
   "cell_type": "markdown",
   "metadata": {},
   "source": [
    "### Step 1: Import alamopy \n",
    "\n",
    "This is a good way to check if everything is connected properly."
   ]
  },
  {
   "cell_type": "code",
   "execution_count": 3,
   "metadata": {
    "collapsed": true
   },
   "outputs": [],
   "source": [
    "import alamopy"
   ]
  },
  {
   "cell_type": "markdown",
   "metadata": {},
   "source": [
    "## Generating your first surrogate model\n",
    "\n",
    "### Step 2: Get data to fit a surrogate to\n",
    "\n",
    "For example:\n",
    "\n",
    "x = [[1,1],[2,4],[3,6]]\n",
    "\n",
    "z = [2,6,9]\n",
    "\n",
    "or you can write a function to generate the data\n",
    "\n",
    "For __Camel6__ data you can copy the values below:\n",
    "\n",
    "x = [[ 0.17361977, -0.44326123], [-0.30192964,  0.68955226],[-1.98112458, -0.75686176],[0.68299634,  0.65170551],[-1.45317364,  0.15018666],[ 1.56528782, -0.58159576] ,[-1.25868712, -0.78324622],[-1.12121003,  0.95724757] ,[ 1.2467326,  -0.65611797],[ 1.26489899, -0.45185251]] \n",
    "\n",
    "\n",
    "z = [-0.58978634828943055, -0.85834512885363479, 4.0241154669754113, 0.91057814668811488, 1.9147616212616931, 0.29103827202206878, 2.4290896722960778, 0.99199475534877579, 0.59688699266830847, 1.167850366995701]\n",
    "\n",
    "### Step 3: Call doalamo on the data and print the resulting model\n",
    "\n",
    "results  = alamopy.doalamo(x,z)\n",
    "\n",
    "print results['model']\n"
   ]
  },
  {
   "cell_type": "code",
   "execution_count": 5,
   "metadata": {
    "collapsed": false
   },
   "outputs": [
    {
     "name": "stdout",
     "output_type": "stream",
     "text": [
      "min and max values of inputs are not provided, they will be calculated from the training data\n",
      "Calling ALAMO now:\n",
      "  z1 =  - 0.75476478288061277233112 * x1 - 0.99591449480871119259717 * x2 + 0.87663651204376302761290\n"
     ]
    }
   ],
   "source": [
    "x = [[ 0.17361977, -0.44326123], [-0.30192964, 0.68955226],[-1.98112458, -0.75686176],[0.68299634, 0.65170551],[-1.45317364, 0.15018666],[ 1.56528782, -0.58159576] ,[-1.25868712, -0.78324622],[-1.12121003, 0.95724757] ,[ 1.2467326, -0.65611797],[ 1.26489899, -0.45185251]]\n",
    "\n",
    "z = [-0.58978634828943055, -0.85834512885363479, 4.0241154669754113, 0.91057814668811488, 1.9147616212616931, 0.29103827202206878, 2.4290896722960778, 0.99199475534877579, 0.59688699266830847, 1.167850366995701]\n",
    "\n",
    "results = alamopy.doalamo(x,z)\n",
    "print results['model']\n"
   ]
  },
  {
   "cell_type": "markdown",
   "metadata": {},
   "source": [
    "## Surrogate model regression statistics\n",
    "\n",
    "Printing the full results will include the size of the model, the sum of squared errors, R-squared value, and other statistics of interest\n",
    "\n",
    "The results are a dictionary and you can look at individual features such as:\n",
    "- model\n",
    "- ssr : sum of squared residuals\n",
    "- R2 : R squared value\n",
    "- size : number of terms in the surrogate model\n",
    "\n",
    "and others.\n",
    "\n",
    "For example:\n",
    "\n",
    "print results\n",
    "\n",
    "print results['model']\n",
    "\n",
    "### Below print the full results and select some statistics you might be interested in."
   ]
  },
  {
   "cell_type": "code",
   "execution_count": 8,
   "metadata": {
    "collapsed": false
   },
   "outputs": [
    {
     "name": "stdout",
     "output_type": "stream",
     "text": [
      "  z1 =  - 0.75476478288061277233112 * x1 - 0.99591449480871119259717 * x2 + 0.87663651204376302761290\n",
      " 7.75\n"
     ]
    }
   ],
   "source": [
    "print results['model']\n",
    "print results['ssr']"
   ]
  },
  {
   "cell_type": "markdown",
   "metadata": {},
   "source": [
    "## Limiting the functions allowed to be used in the surrogate model\n",
    "\n",
    "We just ran the simplest case __doalamo__. We can also add a validation dataset, expand the output of results with further statistics, and control the functional forms.\n",
    "\n",
    "### Step 4: Choosing functional forms\n",
    "\n",
    "First lets look at some of the options for functional forms.\n",
    "\n",
    "We can decide between these options added as keyword arguments to the doalamo function:\n",
    "\n",
    "          -  linfcns       : 0-1 option to include linear transformations\n",
    "          -  expfcns       : 0-1 option to include exponential transformations\n",
    "          -  logfcns       : 0-1 option to include logarithmic transformations\n",
    "          -  sinfcns       : 0-1 option to include sine transformations\n",
    "          -  cosfcns       : 0-1 option to include cosine transformations\n",
    "          -  monomialpower : list of monomial powers\n",
    "          -  multi2power   : list of binomial powers\n",
    "          -  multi3power   : list of trinomials\n",
    "          -  ratiopower    : list of ratio powers\n",
    "\n",
    "\n",
    "### Step 5: run do alamo and print the results\n",
    "\n",
    "for example:\n",
    "\n",
    "results = alamopy.doalamo(x,z, linfcns=1, logfcns=1)\n",
    "\n",
    "results = alamopy.doalamo(x,z, linfcns=1, logfcns=1, expfcns=1, monomialpower=[1,2,3])\n",
    "\n",
    "results = alamopy.doalamo(x,z, linfcns=1, logfcns=1, expfcns=1, ratiopower=[1,2,3])\n",
    "\n"
   ]
  },
  {
   "cell_type": "code",
   "execution_count": 19,
   "metadata": {
    "collapsed": false
   },
   "outputs": [
    {
     "name": "stdout",
     "output_type": "stream",
     "text": [
      "min and max values of inputs are not provided, they will be calculated from the training data\n",
      "Calling ALAMO now:\n",
      "  z1 =  - 1.4365222893864535436137 * x1 + 0.62427953078783460227896 * exp(x1)\n"
     ]
    }
   ],
   "source": [
    "results = alamopy.doalamo(x,z, linfcns=1, logfcns=1, expfcns=1, ratiopower=[1,2,3])\n",
    "print results['model']"
   ]
  },
  {
   "cell_type": "markdown",
   "metadata": {},
   "source": [
    "## Adding validation data\n",
    "\n",
    "To include validation data, we need to provide alamo with mored data to validate the model against.\n",
    "\n",
    "Lets call the variables, __xvalData__ and __zvalData__.\n",
    "\n",
    "For example:\n",
    "\n",
    "xvalData = [[1,2],[3,4]]\n",
    "\n",
    "zvalData = [0,5]\n",
    "\n",
    "Validation data are designated by keywords (__xval__, __zval__)\n",
    "\n",
    "### Step 6: Run doalamo with validation data\n",
    "\n",
    "example:\n",
    "\n",
    "alamopy.doalamo(x,z, xval= xvalData, zval=zvalData)\n",
    "\n",
    "** The results will have additional statistics for the validation data, including ssrval, rmseval, and R2val. **"
   ]
  },
  {
   "cell_type": "code",
   "execution_count": 13,
   "metadata": {
    "collapsed": false
   },
   "outputs": [
    {
     "name": "stdout",
     "output_type": "stream",
     "text": [
      "min and max values of inputs are not provided, they will be calculated from the training data\n",
      "Calling ALAMO now:\n"
     ]
    },
    {
     "data": {
      "text/plain": [
       "{'R2': ' 0.584',\n",
       " 'R2val': ' -7.88',\n",
       " 'clrtime': ' 0.0000000',\n",
       " 'f(model)': <function numpy.<lambda>>,\n",
       " 'madp': ' 301.',\n",
       " 'madpval': ' 0.121E+04',\n",
       " 'miptime': ' 0.0000000',\n",
       " 'model': '  z1 =  - 0.75476478288061277233112 * x1 - 0.99591449480871119259717 * x2 + 0.87663651204376302761290',\n",
       " 'nbas': ' 3',\n",
       " 'ninputs': ' 2',\n",
       " 'numclr': ' 0',\n",
       " 'nummip': ' 0',\n",
       " 'numolr': ' 8',\n",
       " 'olrtime': ' 0.0000000',\n",
       " 'othertime': ' 0.40000002E-02',\n",
       " 'pymodel': 'tempalm',\n",
       " 'rmse': ' 0.880',\n",
       " 'rmseval': ' 7.45',\n",
       " 'size': ' 3',\n",
       " 'ssr': ' 7.75',\n",
       " 'ssrval': ' 111.',\n",
       " 'status': ' 0',\n",
       " 'totaltime': ' 0.0000000',\n",
       " 'version': ' 2018.4.3',\n",
       " 'xdata': array([[ 0.17361977, -0.44326123],\n",
       "        [-0.30192964,  0.68955226],\n",
       "        [-1.98112458, -0.75686176],\n",
       "        [ 0.68299634,  0.65170551],\n",
       "        [-1.45317364,  0.15018666],\n",
       "        [ 1.56528782, -0.58159576],\n",
       "        [-1.25868712, -0.78324622],\n",
       "        [-1.12121003,  0.95724757],\n",
       "        [ 1.2467326 , -0.65611797],\n",
       "        [ 1.26489899, -0.45185251]]),\n",
       " 'xlabels': ['x1', 'x2'],\n",
       " 'zdata': array([[-0.58978635],\n",
       "        [-0.85834513],\n",
       "        [ 4.02411547],\n",
       "        [ 0.91057815],\n",
       "        [ 1.91476162],\n",
       "        [ 0.29103827],\n",
       "        [ 2.42908967],\n",
       "        [ 0.99199476],\n",
       "        [ 0.59688699],\n",
       "        [ 1.16785037]]),\n",
       " 'zlabels': ['z1']}"
      ]
     },
     "execution_count": 13,
     "metadata": {},
     "output_type": "execute_result"
    }
   ],
   "source": [
    "xval = [[1,2],[3,4]]\n",
    "zval = [0,5]\n",
    "alamopy.doalamo(x,z,xval=xval,zval=zval, expandoutput=True)"
   ]
  },
  {
   "cell_type": "markdown",
   "metadata": {},
   "source": [
    "## Confidence in our model parameters\n",
    "\n",
    "Now that we have our model we can get confidence intervals. Just pass the results to the function **almconfidence**\n",
    "\n",
    "### Step 7: Pass the results to almconfidence to determine the confidence interval and covariance matrix\n",
    "\n",
    "For example:\n",
    "\n",
    "alamopy.almconfidence(results)\n",
    "\n",
    "Dictionary words for confidence interval and covariance matrix are:\n",
    "- covariance\n",
    "- conf_inv\n",
    "\n",
    "for example: results['covariance']\n",
    "\n",
    "This will give you the **confidence interval** for the beta values and **covariance matrix** that can be used for uncertainty analysis."
   ]
  },
  {
   "cell_type": "code",
   "execution_count": 16,
   "metadata": {
    "collapsed": false
   },
   "outputs": [
    {
     "name": "stdout",
     "output_type": "stream",
     "text": [
      "min and max values of inputs are not provided, they will be calculated from the training data\n",
      "Calling ALAMO now:\n",
      "  z1 =  - 0.75476478288061277233112 * x1 - 0.99591449480871119259717 * x2 + 0.87663651204376302761290\n",
      "[[ 0.07564464  0.02040224  0.01305374]\n",
      " [ 0.02040224  0.27921505  0.04174531]\n",
      " [ 0.01305374  0.04174531  0.1516578 ]] ['B1 : 0.754764782881+/-0.650356114085', 'B2 : 0.995914494809+/-1.24948644189', 'B3 : 0.876636512044+/-0.9208619341']\n"
     ]
    }
   ],
   "source": [
    "results = alamopy.doalamo(x,z,xval=xval, zval=zval)\n",
    "alamopy.almconfidence(results)\n",
    "print results['model']\n",
    "print results['covariance'], results['conf_inv']"
   ]
  },
  {
   "cell_type": "markdown",
   "metadata": {},
   "source": [
    "##Plotting the Confidence Intervals and the Surrogate Model\n",
    "\n",
    "You can plot the results with **almplot**, which will give you confidence bars for the function. You must first run almconfidence.\n",
    "\n",
    "\n",
    "### Step 8: Run almplot(results)\n",
    "\n",
    "Code example:\n",
    "\n",
    "alamopy.almplot(results)"
   ]
  },
  {
   "cell_type": "code",
   "execution_count": 18,
   "metadata": {
    "collapsed": false
   },
   "outputs": [
    {
     "data": {
      "image/png": "[encoded data removed]",
      "text/plain": [
       "<matplotlib.figure.Figure at 0x7f6afefd5a10>"
      ]
     },
     "metadata": {},
     "output_type": "display_data"
    }
   ],
   "source": [
    "alamopy.almplot(results)"
   ]
  },
  {
   "cell_type": "code",
   "execution_count": null,
   "metadata": {
    "collapsed": true
   },
   "outputs": [],
   "source": []
  }
 ],
 "metadata": {
  "kernelspec": {
   "display_name": "Python 2",
   "language": "python",
   "name": "python2"
  },
  "language_info": {
   "codemirror_mode": {
    "name": "ipython",
    "version": 2
   },
   "file_extension": ".py",
   "mimetype": "text/x-python",
   "name": "python",
   "nbconvert_exporter": "python",
   "pygments_lexer": "ipython2",
   "version": "2.7.13"
  }
 },
 "nbformat": 4,
 "nbformat_minor": 2
}
