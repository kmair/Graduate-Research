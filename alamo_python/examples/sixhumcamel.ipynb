{
 "cells": [
  {
   "cell_type": "code",
   "execution_count": 1,
   "metadata": {
    "collapsed": false
   },
   "outputs": [],
   "source": [
    "import alamopy"
   ]
  },
  {
   "cell_type": "code",
   "execution_count": 2,
   "metadata": {
    "collapsed": false
   },
   "outputs": [
    {
     "name": "stdout",
     "output_type": "stream",
     "text": [
      "min and max values of inputs are not provided, they will be calculated from the training data\n",
      "Calling ALAMO now:\n",
      "Model:   z1 = 3.9999999999999968913755 * x1^2 - 3.9999999999999924504834 * x2^2 - 2.0999999999999987565502 * x1^4 + 3.9999999999999937827511 * x2^4 + 0.33333333333333331482962 * x1^6 + 0.99999999999999955591079 * x1*x2\n"
     ]
    }
   ],
   "source": [
    "execfile('camel6.py')"
   ]
  },
  {
   "cell_type": "code",
   "execution_count": 3,
   "metadata": {
    "collapsed": false
   },
   "outputs": [],
   "source": [
    "import pyomo.environ as pyo\n",
    "model = pyo.ConcreteModel()\n",
    "opt = pyo.SolverFactory('baron')\n",
    "model.x1 = pyo.Var()\n",
    "model.x2 = pyo.Var()\n",
    "def pyomo_model(model):\n",
    "    import cam6alm\n",
    "    return cam6alm.f(model.x1,model.x2)\n",
    "model.obj = pyo.Objective(rule = pyomo_model)\n",
    "results = opt.solve(model)"
   ]
  },
  {
   "cell_type": "code",
   "execution_count": 4,
   "metadata": {
    "collapsed": false
   },
   "outputs": [
    {
     "name": "stdout",
     "output_type": "stream",
     "text": [
      "\n",
      "Problem: \n",
      "- Name: problem\n",
      "  Lower bound: -1e+51\n",
      "  Upper bound: -1.03162845349\n",
      "  Number of objectives: 1\n",
      "  Number of constraints: 1\n",
      "  Number of variables: 3\n",
      "  Sense: unknown\n",
      "Solver: \n",
      "- Status: ok\n",
      "  Termination condition: unknown\n",
      "  Error rc: 0\n",
      "  Time: 0.364516019821\n",
      "Solution: \n",
      "- number of solutions: 1\n",
      "  number of solutions displayed: 1\n",
      "- Gap: 1e+51\n",
      "  Status: feasible\n",
      "  Message: None\n",
      "  Objective:\n",
      "    obj:\n",
      "      Value: -1.03162845349\n",
      "  Variable:\n",
      "    x1:\n",
      "      Value: 0.0898420131003\n",
      "    x2:\n",
      "      Value: -0.712656403021\n",
      "  Constraint: No values\n",
      "\n"
     ]
    }
   ],
   "source": [
    "model.solutions.store_to(results)\n",
    "print results"
   ]
  },
  {
   "cell_type": "code",
   "execution_count": 5,
   "metadata": {
    "collapsed": false
   },
   "outputs": [
    {
     "ename": "NameError",
     "evalue": "name 'res' is not defined",
     "output_type": "error",
     "traceback": [
      "\u001b[0;31m---------------------------------------------------------------------------\u001b[0m",
      "\u001b[0;31mNameError\u001b[0m                                 Traceback (most recent call last)",
      "\u001b[0;32m<ipython-input-5-4ce861e5b022>\u001b[0m in \u001b[0;36m<module>\u001b[0;34m()\u001b[0m\n\u001b[0;32m----> 1\u001b[0;31m \u001b[0malamopy\u001b[0m\u001b[0;34m.\u001b[0m\u001b[0malmplot\u001b[0m\u001b[0;34m(\u001b[0m\u001b[0mres\u001b[0m\u001b[0;34m)\u001b[0m\u001b[0;34m\u001b[0m\u001b[0m\n\u001b[0m",
      "\u001b[0;31mNameError\u001b[0m: name 'res' is not defined"
     ]
    }
   ],
   "source": [
    "alamopy.almplot(res)"
   ]
  },
  {
   "cell_type": "code",
   "execution_count": null,
   "metadata": {
    "collapsed": true
   },
   "outputs": [],
   "source": []
  }
 ],
 "metadata": {
  "kernelspec": {
   "display_name": "Python 2",
   "language": "python",
   "name": "python2"
  },
  "language_info": {
   "codemirror_mode": {
    "name": "ipython",
    "version": 2
   },
   "file_extension": ".py",
   "mimetype": "text/x-python",
   "name": "python",
   "nbconvert_exporter": "python",
   "pygments_lexer": "ipython2",
   "version": "2.7.15"
  }
 },
 "nbformat": 4,
 "nbformat_minor": 2
}
